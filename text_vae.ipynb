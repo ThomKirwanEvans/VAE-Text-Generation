{
  "nbformat": 4,
  "nbformat_minor": 0,
  "metadata": {
    "kernelspec": {
      "display_name": "Python 3",
      "language": "python",
      "name": "python3"
    },
    "language_info": {
      "codemirror_mode": {
        "name": "ipython",
        "version": 3
      },
      "file_extension": ".py",
      "mimetype": "text/x-python",
      "name": "python",
      "nbconvert_exporter": "python",
      "pygments_lexer": "ipython3",
      "version": "3.5.4"
    },
    "colab": {
      "name": "text_vae.ipynb",
      "provenance": [],
      "collapsed_sections": [],
      "toc_visible": true,
      "include_colab_link": true
    },
    "accelerator": "GPU"
  },
  "cells": [
    {
      "cell_type": "markdown",
      "metadata": {
        "id": "view-in-github",
        "colab_type": "text"
      },
      "source": [
        "<a href=\"https://colab.research.google.com/github/ThomKirwanEvans/VAE-Text-Generation/blob/master/text_vae.ipynb\" target=\"_parent\"><img src=\"https://colab.research.google.com/assets/colab-badge.svg\" alt=\"Open In Colab\"/></a>"
      ]
    },
    {
      "cell_type": "code",
      "metadata": {
        "id": "ObENC1O0O0SY",
        "colab_type": "code",
        "colab": {
          "base_uri": "https://localhost:8080/",
          "height": 50
        },
        "outputId": "0a1e5ba3-33f8-453c-effd-904b8cab925d"
      },
      "source": [
        "#%tensorflow_version 1.x\n",
        "from keras.layers import Bidirectional, Dense, Embedding, Input, Lambda, LSTM, RepeatVector, TimeDistributed, Layer, Activation, Dropout\n",
        "from keras.preprocessing.sequence import pad_sequences\n",
        "from keras.layers.advanced_activations import ELU\n",
        "from keras.preprocessing.text import Tokenizer\n",
        "from keras.callbacks import ModelCheckpoint\n",
        "from keras.optimizers import Adam\n",
        "from keras import backend as K\n",
        "from keras.models import Model\n",
        "from scipy import spatial\n",
        "import tensorflow as tf\n",
        "import pandas as pd\n",
        "import numpy as np\n",
        "import codecs\n",
        "import csv\n",
        "import os\n",
        "import tensorflow_addons as tfa\n",
        "import tensorflow_hub as hub\n",
        "import random\n",
        "print('TF Version:',tf.__version__)"
      ],
      "execution_count": null,
      "outputs": [
        {
          "output_type": "stream",
          "text": [
            "Using TensorFlow backend.\n"
          ],
          "name": "stderr"
        },
        {
          "output_type": "stream",
          "text": [
            "TF Version: 2.2.0\n"
          ],
          "name": "stdout"
        }
      ]
    },
    {
      "cell_type": "code",
      "metadata": {
        "id": "rlLng2nDQHW8",
        "colab_type": "code",
        "colab": {
          "base_uri": "https://localhost:8080/",
          "height": 101
        },
        "outputId": "2f9bde8a-c7eb-4392-e237-3c507d9c041d"
      },
      "source": [
        "# Get data and embeddings\n",
        "import requests\n",
        "\n",
        "def download_file_from_google_drive(id, destination):\n",
        "    URL = \"https://docs.google.com/uc?export=download\"\n",
        "\n",
        "    session = requests.Session()\n",
        "\n",
        "    response = session.get(URL, params = { 'id' : id }, stream = True)\n",
        "    token = get_confirm_token(response)\n",
        "\n",
        "    if token:\n",
        "        params = { 'id' : id, 'confirm' : token }\n",
        "        response = session.get(URL, params = params, stream = True)\n",
        "\n",
        "    save_response_content(response, destination)    \n",
        "\n",
        "def get_confirm_token(response):\n",
        "    for key, value in response.cookies.items():\n",
        "        if key.startswith('download_warning'):\n",
        "            return value\n",
        "\n",
        "    return None\n",
        "\n",
        "def save_response_content(response, destination):\n",
        "    CHUNK_SIZE = 32768\n",
        "\n",
        "    with open(destination, \"wb\") as f:\n",
        "        for chunk in response.iter_content(CHUNK_SIZE):\n",
        "            if chunk: # filter out keep-alive new chunks\n",
        "                f.write(chunk)\n",
        "\n",
        "# quora questions csv\n",
        "file_id = '10ofgOry0gPf62_6DHPAoQOohpCgbJAJJ'\n",
        "destination = '/content/quora_train.csv'\n",
        "if not os.path.exists(destination):\n",
        "  print('Downloading Quora questions')\n",
        "  download_file_from_google_drive(file_id, destination)\n",
        "# quora questions text\n",
        "file_id = '1O-e67fwHCeGvUn-QsrwgadtaEAV8nwLP'\n",
        "destination = '/content/quora_train.txt'\n",
        "if not os.path.exists(destination):\n",
        "  print('Downloading Quora questions')\n",
        "  download_file_from_google_drive(file_id, destination)\n",
        "# quora + lyrics\n",
        "file_id = '1UC8o_uk7QEuMHiJiOc-t1alYzbpUuBwz'\n",
        "destination = '/content/quora_lyrics.txt'\n",
        "if not os.path.exists(destination):\n",
        "  print('Downloading quora + lyrics')\n",
        "  download_file_from_google_drive(file_id, destination)\n",
        "# lyrics only\n",
        "file_id = '1rsXc0QSCmdsSxy-symKy3u05NL0ffXj8'\n",
        "destination = '/content/lyrics.txt'\n",
        "if not os.path.exists(destination):\n",
        "  print('Downloading Kaggle lyrics')\n",
        "  download_file_from_google_drive(file_id, destination)\n",
        "  \n",
        "print('Done')"
      ],
      "execution_count": null,
      "outputs": [
        {
          "output_type": "stream",
          "text": [
            "Downloading Quora questions\n",
            "Downloading Quora questions\n",
            "Downloading quora + lyrics\n",
            "Downloading Kaggle lyrics\n",
            "Done\n"
          ],
          "name": "stdout"
        }
      ]
    },
    {
      "cell_type": "markdown",
      "metadata": {
        "id": "8R_o6AKSO0Sd",
        "colab_type": "text"
      },
      "source": [
        "### Directories and text loading\n",
        "Initially we will set the main directories and some variables regarding the characteristics of our texts.\n",
        "We set the maximum sequence length to 15, the maximun number of words in our vocabulary to 12000 and we will use 50-dimensional embeddings. Finally we load our texts from a csv. The text file is the train file of the Quora Kaggle challenge containing around 808000 sentences."
      ]
    },
    {
      "cell_type": "code",
      "metadata": {
        "id": "J8fsJLNvO0Sd",
        "colab_type": "code",
        "colab": {
          "base_uri": "https://localhost:8080/",
          "height": 67
        },
        "outputId": "51d7ba50-7ff7-4650-8b8e-6491c288cb20"
      },
      "source": [
        "LOAD = True\n",
        "DOWNLOAD_MODEL = 'GLOVE_QUORA'\n",
        "BASE_DIR = '/content/'\n",
        "TRAIN_FILE = 'quora_train.csv'#'train_micro.csv'\n",
        "#TRAIN_FILE = 'lyrics.txt'\n",
        "TRAIN_DATA_FILE = BASE_DIR + TRAIN_FILE\n",
        "VALIDATION_SPLIT = 0.01\n",
        "MAX_SEQUENCE_LENGTH = 15\n",
        "MAX_NB_WORDS = 12000\n",
        "embedding_model = 'GLOVE50'\n",
        "\n",
        "\n",
        "\n",
        "if embedding_model == 'GLOVE50':\n",
        "  EMBEDDING_DIM = 50\n",
        "  GLOVE_EMBEDDING = BASE_DIR + 'glove.6B.50d.txt'\n",
        "  EMBED = 'GLOVE'\n",
        "  if not os.path.exists('/content/glove.6b.zip'):\n",
        "    print('Downloading GLOVE embeddings')\n",
        "    #url = 'http://nlp.stanford.edu/data/glove.6B.zip'\n",
        "    #r = requests.get(url)\n",
        "    #with open('/content/glove.6b.zip', 'wb') as f:\n",
        "    #    f.write(r.content)\n",
        "    #import zipfile\n",
        "    #with zipfile.ZipFile('/content/glove.6b.zip', 'r') as zip_ref:\n",
        "    #    zip_ref.extractall('/content/')\n",
        "\n",
        "    file_id = '1aROAqwsrEqRDE7Yk0a2lcrNrflDS1Akc'\n",
        "    destination = '/content/glove.6B.50d.txt'\n",
        "    if not os.path.exists(destination):\n",
        "      print('Downloading Kaggle lyrics')\n",
        "      download_file_from_google_drive(file_id, destination)\n",
        "\n",
        "    print('GLOVE ready')\n",
        "elif embedding_model == 'SWIVEL':\n",
        "  embed = hub.load(\"https://tfhub.dev/google/tf2-preview/gnews-swivel-20dim-with-oov/1\")\n",
        "  EMBED = 'HUB'\n",
        "  EMBEDDING_DIM = embed(['test']).numpy().size\n",
        "elif embedding_model == 'USE':\n",
        "  embed = hub.load(\"https://tfhub.dev/google/universal-sentence-encoder/4\")\n",
        "  EMBED = 'HUB'\n",
        "  EMBEDDING_DIM = embed(['test']).numpy().size\n",
        "\n",
        "\n",
        "if TRAIN_FILE == 'quora_train.csv':\n",
        "  texts = [] \n",
        "  with open(TRAIN_DATA_FILE, 'r', encoding='utf-8') as f:\n",
        "      reader = csv.reader(f, delimiter=',')\n",
        "      header = next(reader)\n",
        "      for values in reader:\n",
        "          texts.append(values[3])\n",
        "          texts.append(values[4])\n",
        "\n",
        "else:\n",
        "  with open(TRAIN_DATA_FILE,'r',encoding='utf-8') as infile:\n",
        "    texts = infile.readlines()\n",
        "print('Found %s texts' % len(texts))\n",
        "  \n",
        "\n",
        "# everyday I'm shuffling\n",
        "\n",
        "random.shuffle(texts)"
      ],
      "execution_count": null,
      "outputs": [
        {
          "output_type": "stream",
          "text": [
            "Downloading GLOVE embeddings\n",
            "GLOVE ready\n",
            "Found 808580 texts\n"
          ],
          "name": "stdout"
        }
      ]
    },
    {
      "cell_type": "code",
      "metadata": {
        "id": "g_x-GMD2XKpn",
        "colab_type": "code",
        "colab": {}
      },
      "source": [
        "# test hub model instead\n",
        "\n",
        "#USE = hub.load(\"https://tfhub.dev/google/universal-sentence-encoder/4\")\n",
        "#SWIVEL = hub.load(\"https://tfhub.dev/google/tf2-preview/gnews-swivel-20dim-with-oov/1\")\n",
        "#W2V = hub.load(\"https://tfhub.dev/google/Wiki-words-250/2\")\n",
        "#NNLM = hub.load(\"https://tfhub.dev/google/nnlm-en-dim128/2\")\n",
        "#NNLM50 = hub.Module(\"https://tfhub.dev/google/random-nnlm-en-dim50/1\")\n",
        "\n",
        "#print(SWIVEL(['test']).numpy())"
      ],
      "execution_count": null,
      "outputs": []
    },
    {
      "cell_type": "markdown",
      "metadata": {
        "id": "lj3o4_QMO0Sh",
        "colab_type": "text"
      },
      "source": [
        "### Text Preprocessing\n",
        "To preprocess the text we will use the tokenizer and the text_to_sequences function from Keras\n"
      ]
    },
    {
      "cell_type": "code",
      "metadata": {
        "id": "hZJI4urZO0Sh",
        "colab_type": "code",
        "colab": {
          "base_uri": "https://localhost:8080/",
          "height": 118
        },
        "outputId": "1a5a8b18-f49a-4ef0-8971-77b41b2d806d"
      },
      "source": [
        "tokenizer = Tokenizer(MAX_NB_WORDS)\n",
        "tokenizer.fit_on_texts(texts)\n",
        "word_index = tokenizer.word_index #the dict values start from 1 so this is fine with zeropadding\n",
        "index2word = {v: k for k, v in word_index.items()}\n",
        "print('Found %s unique tokens' % len(word_index))\n",
        "sequences = tokenizer.texts_to_sequences(texts)\n",
        "data_1 = pad_sequences(sequences, maxlen=MAX_SEQUENCE_LENGTH)\n",
        "print('Initial shape of data tensor:', data_1.shape)\n",
        "NB_WORDS = (min(tokenizer.num_words, len(word_index)) + 1 ) #+1 for zero padding\n",
        "print('Found',NB_WORDS,'words')\n",
        "\n",
        "\n",
        "\n",
        "# trim data to the nearest 100 samples\n",
        "n_texts = len(texts)\n",
        "n_trim = int(np.floor(n_texts/100)*100)\n",
        "print('Trimming to',n_trim)\n",
        "data_1 = data_1[:n_trim]\n",
        "\n",
        "\n",
        "n_texts = len(data_1)\n",
        "val_pct = VALIDATION_SPLIT\n",
        "val_num = int(np.ceil(n_texts*val_pct/100)*100)\n",
        "val_from = n_texts - val_num\n",
        "\n",
        "\n",
        "data_1_val = data_1[val_from:]\n",
        "data_1 = data_1[:val_from] \n",
        "print('Shape of train tensor:', data_1.shape)\n",
        "print('Shape of val tensor:', data_1_val.shape)\n",
        "n_train = data_1.shape[0]\n",
        "\n"
      ],
      "execution_count": null,
      "outputs": [
        {
          "output_type": "stream",
          "text": [
            "Found 95596 unique tokens\n",
            "Initial shape of data tensor: (808580, 15)\n",
            "Found 12001 words\n",
            "Trimming to 808500\n",
            "Shape of train tensor: (800400, 15)\n",
            "Shape of val tensor: (8100, 15)\n"
          ],
          "name": "stdout"
        }
      ]
    },
    {
      "cell_type": "code",
      "metadata": {
        "id": "WTEeJWlLNUwe",
        "colab_type": "code",
        "colab": {
          "base_uri": "https://localhost:8080/",
          "height": 185
        },
        "outputId": "c3d720eb-c7e1-47d3-870c-ebcc2e033f49"
      },
      "source": [
        "# check that data doesn't just have a load of nulls\n",
        "print(data_1)\n",
        "print(texts)\n",
        "print(tokenizer.texts_to_sequences(texts))"
      ],
      "execution_count": null,
      "outputs": [
        {
          "output_type": "stream",
          "text": [
            "IOPub data rate exceeded.\n",
            "The notebook server will temporarily stop sending output\n",
            "to the client in order to avoid crashing it.\n",
            "To change this limit, set the config variable\n",
            "`--NotebookApp.iopub_data_rate_limit`.\n",
            "\n",
            "Current values:\n",
            "NotebookApp.iopub_data_rate_limit=1000000.0 (bytes/sec)\n",
            "NotebookApp.rate_limit_window=3.0 (secs)\n",
            "\n"
          ],
          "name": "stderr"
        }
      ]
    },
    {
      "cell_type": "code",
      "metadata": {
        "id": "UkUWuZZXOct-",
        "colab_type": "code",
        "colab": {
          "base_uri": "https://localhost:8080/",
          "height": 399
        },
        "outputId": "7c2ee4f4-5903-457e-86bb-24c0edd73e4d"
      },
      "source": [
        "# Let's check the sequence length\n",
        "from matplotlib import pyplot as plt\n",
        "line_len = [len(x) for x in texts]\n",
        "plt.hist(np.array(line_len),20)"
      ],
      "execution_count": null,
      "outputs": [
        {
          "output_type": "execute_result",
          "data": {
            "text/plain": [
              "(array([4.95778e+05, 2.60437e+05, 4.68380e+04, 3.86700e+03, 1.29400e+03,\n",
              "        2.91000e+02, 2.70000e+01, 1.20000e+01, 6.00000e+00, 6.00000e+00,\n",
              "        5.00000e+00, 0.00000e+00, 2.00000e+00, 0.00000e+00, 1.00000e+00,\n",
              "        0.00000e+00, 0.00000e+00, 0.00000e+00, 0.00000e+00, 1.60000e+01]),\n",
              " array([   0.  ,   58.45,  116.9 ,  175.35,  233.8 ,  292.25,  350.7 ,\n",
              "         409.15,  467.6 ,  526.05,  584.5 ,  642.95,  701.4 ,  759.85,\n",
              "         818.3 ,  876.75,  935.2 ,  993.65, 1052.1 , 1110.55, 1169.  ]),\n",
              " <a list of 20 Patch objects>)"
            ]
          },
          "metadata": {
            "tags": []
          },
          "execution_count": 18
        },
        {
          "output_type": "display_data",
          "data": {
            "image/png": "[encoded data removed]",
            "text/plain": [
              "<Figure size 432x288 with 1 Axes>"
            ]
          },
          "metadata": {
            "tags": [],
            "needs_background": "light"
          }
        }
      ]
    },
    {
      "cell_type": "markdown",
      "metadata": {
        "id": "6dmbxWujO0Sm",
        "colab_type": "text"
      },
      "source": [
        "### Sentence generator\n",
        "In order to reduce the memory requirements we will gradually read our sentences from the csv through Pandas as we feed them to the model"
      ]
    },
    {
      "cell_type": "code",
      "metadata": {
        "id": "kA6PBOBTO0Sm",
        "colab_type": "code",
        "colab": {
          "base_uri": "https://localhost:8080/",
          "height": 50
        },
        "outputId": "62044420-83be-4c75-a84f-374b4f40fa7b"
      },
      "source": [
        "\n",
        "if TRAIN_FILE == 'quora_train.csv':\n",
        "  def sent_generator_file(TRAIN_DATA_FILE, chunksize):\n",
        "      reader = pd.read_csv(TRAIN_DATA_FILE, chunksize=chunksize, iterator=True)\n",
        "      for df in reader:\n",
        "          #print(df.shape)\n",
        "          #df=pd.read_csv(TRAIN_DATA_FILE, iterator=False)\n",
        "          val3 = df.iloc[:,3:4].values.tolist()\n",
        "          val4 = df.iloc[:,4:5].values.tolist()\n",
        "          flat3 = [item for sublist in val3 for item in sublist]\n",
        "          flat4 = [str(item) for sublist in val4 for item in sublist]\n",
        "          texts = [] \n",
        "          texts.extend(flat3[:])\n",
        "          texts.extend(flat4[:])\n",
        "          \n",
        "          sequences = tokenizer.texts_to_sequences(texts)\n",
        "          data_train = pad_sequences(sequences, maxlen=MAX_SEQUENCE_LENGTH)\n",
        "          yield [data_train, data_train]\n",
        "else:\n",
        "  def sent_generator_file(TRAIN_DATA_FILE, chunksize):\n",
        "      reader = pd.read_csv(TRAIN_DATA_FILE, chunksize=chunksize, iterator=True, delimiter='\\n')\n",
        "      for df in reader:\n",
        "          texts = df.values.tolist()\n",
        "          texts = [x[0] for x in texts]\n",
        "          sequences = tokenizer.texts_to_sequences(texts)\n",
        "          data_train = pad_sequences(sequences, maxlen=MAX_SEQUENCE_LENGTH)\n",
        "          yield [data_train, data_train]\n",
        "\n",
        "def sent_generator(data, chunksize):\n",
        "  start = 0\n",
        "  end = start+chunksize\n",
        "  n = data.shape[0]\n",
        "  while end <= n:\n",
        "    _data = data[start:end,:]    \n",
        "    start = end\n",
        "    end = start+chunksize\n",
        "    yield[_data,_data]\n",
        "\n",
        "# the last batch should be the same size as the first, else we'll have errors later\n",
        "sgen = sent_generator(data_1,100)\n",
        "count = 0\n",
        "for d in sgen:\n",
        "  count += 1\n",
        "  pass\n",
        "print(d[0].shape)\n",
        "print(data_1.shape)\n",
        "\n"
      ],
      "execution_count": null,
      "outputs": [
        {
          "output_type": "stream",
          "text": [
            "(100, 15)\n",
            "(800400, 15)\n"
          ],
          "name": "stdout"
        }
      ]
    },
    {
      "cell_type": "markdown",
      "metadata": {
        "id": "kDIBE94aO0Sq",
        "colab_type": "text"
      },
      "source": [
        "### Word embeddings\n",
        "We will use pretrained Glove word embeddings as embeddings for our network. We create a matrix with one embedding for every word in our vocabulary and then we will pass this matrix as weights to the keras embedding layer of our model"
      ]
    },
    {
      "cell_type": "code",
      "metadata": {
        "id": "zuRjcttVO0Sq",
        "colab_type": "code",
        "colab": {
          "base_uri": "https://localhost:8080/",
          "height": 67
        },
        "outputId": "2f32b5eb-7966-467d-e806-ceaecaab3b31"
      },
      "source": [
        "if EMBED == 'GLOVE':\n",
        "  embeddings_index = {}\n",
        "  f = open(GLOVE_EMBEDDING, encoding='utf8')\n",
        "  for line in f:\n",
        "      values = line.split()\n",
        "      word = values[0]\n",
        "      coefs = np.asarray(values[1:], dtype='float32')\n",
        "      embeddings_index[word] = coefs\n",
        "  f.close()\n",
        "elif EMBED == 'HUB':\n",
        "  print('Calculating individual word embeddings - batch to speed up')\n",
        "  embeddings_index = {}\n",
        "  embeddings_index['unk'] = embed(['unknown']).numpy()\n",
        "\n",
        "print('Found %s precached word vectors.' % len(embeddings_index))\n",
        "\n",
        "glove_embedding_matrix = np.zeros((NB_WORDS, EMBEDDING_DIM))\n",
        "unknown_count = 0\n",
        "for word, i in word_index.items():\n",
        "    if i < NB_WORDS:\n",
        "        if EMBED == 'GLOVE':\n",
        "          embedding_vector = embeddings_index.get(word)\n",
        "        elif EMBED == 'HUB':\n",
        "          embedding_vector = embed([word]).numpy()\n",
        "        if embedding_vector is not None:\n",
        "            # words not found in embedding index will be the word embedding of 'unk'.\n",
        "            glove_embedding_matrix[i] = embedding_vector\n",
        "        else:\n",
        "            glove_embedding_matrix[i] = embeddings_index.get('unk')\n",
        "            unknown_count += 1\n",
        "print('Null word embeddings: %d' % np.sum(np.sum(glove_embedding_matrix, axis=1) == 0))\n",
        "print('Unknown count:',unknown_count)\n",
        "\n"
      ],
      "execution_count": null,
      "outputs": [
        {
          "output_type": "stream",
          "text": [
            "Found 400000 precached word vectors.\n",
            "Null word embeddings: 1\n",
            "Unknown count: 374\n"
          ],
          "name": "stdout"
        }
      ]
    },
    {
      "cell_type": "code",
      "metadata": {
        "id": "OBv5zaxqL79G",
        "colab_type": "code",
        "colab": {
          "base_uri": "https://localhost:8080/",
          "height": 282
        },
        "outputId": "fe968552-06ec-4dff-ae75-c76afcf8c82b"
      },
      "source": [
        "from matplotlib import pyplot as plt\n",
        "plt.scatter(glove_embedding_matrix[:,0],glove_embedding_matrix[:,1])"
      ],
      "execution_count": null,
      "outputs": [
        {
          "output_type": "execute_result",
          "data": {
            "text/plain": [
              "<matplotlib.collections.PathCollection at 0x7fc2ea840978>"
            ]
          },
          "metadata": {
            "tags": []
          },
          "execution_count": 21
        },
        {
          "output_type": "display_data",
          "data": {
            "image/png": "[encoded data removed]",
            "text/plain": [
              "<Figure size 432x288 with 1 Axes>"
            ]
          },
          "metadata": {
            "tags": [],
            "needs_background": "light"
          }
        }
      ]
    },
    {
      "cell_type": "markdown",
      "metadata": {
        "id": "jtLk91eLO0St",
        "colab_type": "text"
      },
      "source": [
        "### VAE model\n",
        "Our model is based on a seq2seq architecture with a bidirectional LSTM encoder and an LSTM decoder and ELU activations.\n",
        "We feed the latent representation at every timestep as input to the decoder through \"RepeatVector(max_len)\".\n",
        "To avoid the one-hot representation of labels we use the \"tf.contrib.seq2seq.sequence_loss\" that requires as labels only the word indexes (the same that go in input to the embedding matrix) and calculates internally the final softmax (so the model ends with a dense layer with linear activation). Optionally the \"sequence_loss\" allows to use the sampled softmax which helps when dealing with large vocabularies (for example with a 50k words vocabulary) but in this I didn't use it.\n",
        "Moreover, due to the pandas iterator that reads the csv both the train size and validation size must be divisible by the batch_size."
      ]
    },
    {
      "cell_type": "code",
      "metadata": {
        "id": "E-K3chNoO0Su",
        "colab_type": "code",
        "colab": {
          "base_uri": "https://localhost:8080/",
          "height": 672
        },
        "outputId": "a3f065e3-26aa-4b7b-954c-f2a7c1ca9d8f"
      },
      "source": [
        "batch_size = 100\n",
        "max_len = MAX_SEQUENCE_LENGTH\n",
        "emb_dim = EMBEDDING_DIM\n",
        "latent_dim = 32\n",
        "intermediate_dim = 96\n",
        "epsilon_std = 1.0\n",
        "num_sampled=500\n",
        "act = ELU()\n",
        "\n",
        "#y = Input(batch_shape=(None, max_len, NB_WORDS))\n",
        "x = Input(batch_shape=(None, max_len))\n",
        "x_embed = Embedding(NB_WORDS, emb_dim, weights=[glove_embedding_matrix],\n",
        "                            input_length=max_len, trainable=False)(x)\n",
        "h = Bidirectional(LSTM(intermediate_dim, return_sequences=False, recurrent_dropout=0.2), merge_mode='concat')(x_embed)\n",
        "#h = Bidirectional(LSTM(intermediate_dim, return_sequences=False), merge_mode='concat')(h)\n",
        "h = Dropout(0.2)(h)\n",
        "h = Dense(intermediate_dim, activation='linear')(h)\n",
        "h = act(h)\n",
        "h = Dropout(0.2)(h)\n",
        "z_mean = Dense(latent_dim)(h)\n",
        "z_log_var = Dense(latent_dim)(h)\n",
        "\n",
        "def sampling(args):\n",
        "    z_mean, z_log_var = args\n",
        "    epsilon = K.random_normal(shape=(batch_size, latent_dim), mean=0.,\n",
        "                              stddev=epsilon_std)\n",
        "    return z_mean + K.exp(z_log_var / 2) * epsilon\n",
        "\n",
        "# note that \"output_shape\" isn't necessary with the TensorFlow backend\n",
        "z = Lambda(sampling, output_shape=(latent_dim,))([z_mean, z_log_var])\n",
        "\n",
        "# we instantiate these layers separately so as to reuse them later\n",
        "repeated_context = RepeatVector(max_len)\n",
        "decoder_h = LSTM(intermediate_dim, return_sequences=True, recurrent_dropout=0.2)\n",
        "decoder_mean = TimeDistributed(Dense(NB_WORDS, activation='linear'))#softmax is applied in the seq2seqloss by tf\n",
        "h_decoded = decoder_h(repeated_context(z))\n",
        "x_decoded_mean = decoder_mean(h_decoded)\n",
        "\n",
        "\n",
        "# placeholder loss\n",
        "def zero_loss(y_true, y_pred):\n",
        "    return K.zeros_like(y_pred)\n",
        "\n",
        "#=========================== Necessary only if you want to use Sampled Softmax =======================#\n",
        "#Sampled softmax\n",
        "logits = tf.constant(np.random.randn(batch_size, max_len, NB_WORDS), tf.float32)\n",
        "targets = tf.constant(np.random.randint(NB_WORDS, size=(batch_size, max_len)), tf.int32)\n",
        "proj_w = tf.constant(np.random.randn(NB_WORDS, NB_WORDS), tf.float32)\n",
        "proj_b = tf.constant(np.zeros(NB_WORDS), tf.float32)\n",
        "\n",
        "def _sampled_loss(labels, logits):\n",
        "    labels = tf.cast(labels, tf.int64)\n",
        "    labels = tf.reshape(labels, [-1, 1])\n",
        "    logits = tf.cast(logits, tf.float32)\n",
        "    return tf.cast(\n",
        "                    tf.nn.sampled_softmax_loss(\n",
        "                        proj_w,\n",
        "                        proj_b,\n",
        "                        labels,\n",
        "                        logits,\n",
        "                        num_sampled=num_sampled,\n",
        "                        num_classes=NB_WORDS),\n",
        "                    tf.float32)\n",
        "softmax_loss_f = _sampled_loss\n",
        "#====================================================================================================#\n",
        "\n",
        "# Custom VAE loss layer\n",
        "class CustomVariationalLayer(Layer):\n",
        "    def __init__(self, **kwargs):\n",
        "        self.is_placeholder = True\n",
        "        super(CustomVariationalLayer, self).__init__(**kwargs)\n",
        "        self.target_weights = tf.constant(np.ones((batch_size, max_len)), tf.float32)\n",
        "\n",
        "    def vae_loss(self, x, x_decoded_mean):\n",
        "        #xent_loss = K.sum(metrics.categorical_crossentropy(x, x_decoded_mean), axis=-1)\n",
        "        labels = tf.cast(x, tf.int32)\n",
        "        xent_loss = K.sum(tfa.seq2seq.sequence_loss(x_decoded_mean, labels, \n",
        "                                                     weights=self.target_weights,\n",
        "                                                     average_across_timesteps=False,\n",
        "                                                     average_across_batch=False), axis=-1)\n",
        "                                                     #softmax_loss_function=softmax_loss_f), axis=-1)#, uncomment for sampled doftmax\n",
        "        kl_loss = - 0.5 * K.sum(1 + z_log_var - K.square(z_mean) - K.exp(z_log_var), axis=-1)\n",
        "        return K.mean(xent_loss + kl_loss)\n",
        "\n",
        "    def call(self, inputs):\n",
        "        x = inputs[0]\n",
        "        x_decoded_mean = inputs[1]\n",
        "        print(x.shape, x_decoded_mean.shape)\n",
        "        loss = self.vae_loss(x, x_decoded_mean)\n",
        "        self.add_loss(loss, inputs=inputs)\n",
        "        # we don't use this output, but it has to have the correct shape:\n",
        "        return K.ones_like(x)\n",
        "\n",
        "loss_layer = CustomVariationalLayer()([x, x_decoded_mean])\n",
        "vae = Model(x, [loss_layer])\n",
        "opt = Adam(lr=0.01) #SGD(lr=1e-2, decay=1e-6, momentum=0.9, nesterov=True)\n",
        "vae.compile(optimizer='adam', loss=[zero_loss])\n",
        "vae.summary()\n"
      ],
      "execution_count": null,
      "outputs": [
        {
          "output_type": "stream",
          "text": [
            "(None, 15) (100, 15, 12001)\n",
            "Model: \"model_2\"\n",
            "__________________________________________________________________________________________________\n",
            "Layer (type)                    Output Shape         Param #     Connected to                     \n",
            "==================================================================================================\n",
            "input_2 (InputLayer)            (None, 15)           0                                            \n",
            "__________________________________________________________________________________________________\n",
            "embedding_2 (Embedding)         (None, 15, 50)       600050      input_2[0][0]                    \n",
            "__________________________________________________________________________________________________\n",
            "bidirectional_2 (Bidirectional) (None, 192)          112896      embedding_2[0][0]                \n",
            "__________________________________________________________________________________________________\n",
            "dropout_3 (Dropout)             (None, 192)          0           bidirectional_2[0][0]            \n",
            "__________________________________________________________________________________________________\n",
            "dense_5 (Dense)                 (None, 96)           18528       dropout_3[0][0]                  \n",
            "__________________________________________________________________________________________________\n",
            "elu_2 (ELU)                     (None, 96)           0           dense_5[0][0]                    \n",
            "__________________________________________________________________________________________________\n",
            "dropout_4 (Dropout)             (None, 96)           0           elu_2[0][0]                      \n",
            "__________________________________________________________________________________________________\n",
            "dense_6 (Dense)                 (None, 32)           3104        dropout_4[0][0]                  \n",
            "__________________________________________________________________________________________________\n",
            "dense_7 (Dense)                 (None, 32)           3104        dropout_4[0][0]                  \n",
            "__________________________________________________________________________________________________\n",
            "lambda_2 (Lambda)               (None, 32)           0           dense_6[0][0]                    \n",
            "                                                                 dense_7[0][0]                    \n",
            "__________________________________________________________________________________________________\n",
            "repeat_vector_2 (RepeatVector)  (None, 15, 32)       0           lambda_2[0][0]                   \n",
            "__________________________________________________________________________________________________\n",
            "lstm_4 (LSTM)                   (None, 15, 96)       49536       repeat_vector_2[0][0]            \n",
            "__________________________________________________________________________________________________\n",
            "time_distributed_2 (TimeDistrib (None, 15, 12001)    1164097     lstm_4[0][0]                     \n",
            "__________________________________________________________________________________________________\n",
            "custom_variational_layer_2 (Cus [(None, 15), (None,  0           input_2[0][0]                    \n",
            "                                                                 time_distributed_2[0][0]         \n",
            "==================================================================================================\n",
            "Total params: 1,951,315\n",
            "Trainable params: 1,351,265\n",
            "Non-trainable params: 600,050\n",
            "__________________________________________________________________________________________________\n"
          ],
          "name": "stdout"
        }
      ]
    },
    {
      "cell_type": "code",
      "metadata": {
        "id": "O2Na3xUqn2hj",
        "colab_type": "code",
        "colab": {
          "base_uri": "https://localhost:8080/",
          "height": 50
        },
        "outputId": "8575b2b3-0499-4169-be1a-4c3e0583ccd7"
      },
      "source": [
        "if len(DOWNLOAD_MODEL)>0:\n",
        "  print('Downloading model',DOWNLOAD_MODEL)\n",
        "  if DOWNLOAD_MODEL == 'GLOVE_QUORA':    \n",
        "    file_id = '1pE1XOueOayigOiatY67ysTx0L_K4PbMnP'\n",
        "\n",
        "  destination = '/content/models/vae_seq2seq.h5'\n",
        "  if not os.path.exists('/content/models/'):\n",
        "    os.mkdir('/content/models/')\n",
        "  if not os.path.exists(destination):      \n",
        "    download_file_from_google_drive(file_id, destination)\n",
        "  else:\n",
        "    print('Model exists; delete if you want to download')\n",
        "    1/0\n",
        "print('Done')"
      ],
      "execution_count": null,
      "outputs": [
        {
          "output_type": "stream",
          "text": [
            "Downloading model GLOVE_QUORA\n",
            "Done\n"
          ],
          "name": "stdout"
        }
      ]
    },
    {
      "cell_type": "code",
      "metadata": {
        "id": "VArie2tD-KJW",
        "colab_type": "code",
        "colab": {
          "base_uri": "https://localhost:8080/",
          "height": 454
        },
        "outputId": "7f3c36a4-2435-4720-b162-d1033176ba8b"
      },
      "source": [
        "# load the existing model if there is one\n",
        "if LOAD and os.path.exists('/content/models/vae_seq2seq.h5'):\n",
        "  vae.load_weights('/content/models/vae_seq2seq.h5')\n",
        "  print('Loaded weights')"
      ],
      "execution_count": null,
      "outputs": [
        {
          "output_type": "error",
          "ename": "OSError",
          "evalue": "ignored",
          "traceback": [
            "\u001b[0;31m---------------------------------------------------------------------------\u001b[0m",
            "\u001b[0;31mOSError\u001b[0m                                   Traceback (most recent call last)",
            "\u001b[0;32m<ipython-input-28-ac69ac1ab06a>\u001b[0m in \u001b[0;36m<module>\u001b[0;34m()\u001b[0m\n\u001b[1;32m      1\u001b[0m \u001b[0;31m# load the existing model if there is one\u001b[0m\u001b[0;34m\u001b[0m\u001b[0;34m\u001b[0m\u001b[0;34m\u001b[0m\u001b[0m\n\u001b[1;32m      2\u001b[0m \u001b[0;32mif\u001b[0m \u001b[0mLOAD\u001b[0m \u001b[0;32mand\u001b[0m \u001b[0mos\u001b[0m\u001b[0;34m.\u001b[0m\u001b[0mpath\u001b[0m\u001b[0;34m.\u001b[0m\u001b[0mexists\u001b[0m\u001b[0;34m(\u001b[0m\u001b[0;34m'/content/models/vae_seq2seq.h5'\u001b[0m\u001b[0;34m)\u001b[0m\u001b[0;34m:\u001b[0m\u001b[0;34m\u001b[0m\u001b[0;34m\u001b[0m\u001b[0m\n\u001b[0;32m----> 3\u001b[0;31m   \u001b[0mvae\u001b[0m\u001b[0;34m.\u001b[0m\u001b[0mload_weights\u001b[0m\u001b[0;34m(\u001b[0m\u001b[0;34m'/content/models/vae_seq2seq.h5'\u001b[0m\u001b[0;34m)\u001b[0m\u001b[0;34m\u001b[0m\u001b[0;34m\u001b[0m\u001b[0m\n\u001b[0m\u001b[1;32m      4\u001b[0m   \u001b[0mprint\u001b[0m\u001b[0;34m(\u001b[0m\u001b[0;34m'Loaded weights'\u001b[0m\u001b[0;34m)\u001b[0m\u001b[0;34m\u001b[0m\u001b[0;34m\u001b[0m\u001b[0m\n",
            "\u001b[0;32m/usr/local/lib/python3.6/dist-packages/keras/engine/saving.py\u001b[0m in \u001b[0;36mload_wrapper\u001b[0;34m(*args, **kwargs)\u001b[0m\n\u001b[1;32m    490\u001b[0m                 \u001b[0mos\u001b[0m\u001b[0;34m.\u001b[0m\u001b[0mremove\u001b[0m\u001b[0;34m(\u001b[0m\u001b[0mtmp_filepath\u001b[0m\u001b[0;34m)\u001b[0m\u001b[0;34m\u001b[0m\u001b[0;34m\u001b[0m\u001b[0m\n\u001b[1;32m    491\u001b[0m             \u001b[0;32mreturn\u001b[0m \u001b[0mres\u001b[0m\u001b[0;34m\u001b[0m\u001b[0;34m\u001b[0m\u001b[0m\n\u001b[0;32m--> 492\u001b[0;31m         \u001b[0;32mreturn\u001b[0m \u001b[0mload_function\u001b[0m\u001b[0;34m(\u001b[0m\u001b[0;34m*\u001b[0m\u001b[0margs\u001b[0m\u001b[0;34m,\u001b[0m \u001b[0;34m**\u001b[0m\u001b[0mkwargs\u001b[0m\u001b[0;34m)\u001b[0m\u001b[0;34m\u001b[0m\u001b[0;34m\u001b[0m\u001b[0m\n\u001b[0m\u001b[1;32m    493\u001b[0m \u001b[0;34m\u001b[0m\u001b[0m\n\u001b[1;32m    494\u001b[0m     \u001b[0;32mreturn\u001b[0m \u001b[0mload_wrapper\u001b[0m\u001b[0;34m\u001b[0m\u001b[0;34m\u001b[0m\u001b[0m\n",
            "\u001b[0;32m/usr/local/lib/python3.6/dist-packages/keras/engine/network.py\u001b[0m in \u001b[0;36mload_weights\u001b[0;34m(self, filepath, by_name, skip_mismatch, reshape)\u001b[0m\n\u001b[1;32m   1219\u001b[0m         \u001b[0;32mif\u001b[0m \u001b[0mh5py\u001b[0m \u001b[0;32mis\u001b[0m \u001b[0;32mNone\u001b[0m\u001b[0;34m:\u001b[0m\u001b[0;34m\u001b[0m\u001b[0;34m\u001b[0m\u001b[0m\n\u001b[1;32m   1220\u001b[0m             \u001b[0;32mraise\u001b[0m \u001b[0mImportError\u001b[0m\u001b[0;34m(\u001b[0m\u001b[0;34m'`load_weights` requires h5py.'\u001b[0m\u001b[0;34m)\u001b[0m\u001b[0;34m\u001b[0m\u001b[0;34m\u001b[0m\u001b[0m\n\u001b[0;32m-> 1221\u001b[0;31m         \u001b[0;32mwith\u001b[0m \u001b[0mh5py\u001b[0m\u001b[0;34m.\u001b[0m\u001b[0mFile\u001b[0m\u001b[0;34m(\u001b[0m\u001b[0mfilepath\u001b[0m\u001b[0;34m,\u001b[0m \u001b[0mmode\u001b[0m\u001b[0;34m=\u001b[0m\u001b[0;34m'r'\u001b[0m\u001b[0;34m)\u001b[0m \u001b[0;32mas\u001b[0m \u001b[0mf\u001b[0m\u001b[0;34m:\u001b[0m\u001b[0;34m\u001b[0m\u001b[0;34m\u001b[0m\u001b[0m\n\u001b[0m\u001b[1;32m   1222\u001b[0m             \u001b[0;32mif\u001b[0m \u001b[0;34m'layer_names'\u001b[0m \u001b[0;32mnot\u001b[0m \u001b[0;32min\u001b[0m \u001b[0mf\u001b[0m\u001b[0;34m.\u001b[0m\u001b[0mattrs\u001b[0m \u001b[0;32mand\u001b[0m \u001b[0;34m'model_weights'\u001b[0m \u001b[0;32min\u001b[0m \u001b[0mf\u001b[0m\u001b[0;34m:\u001b[0m\u001b[0;34m\u001b[0m\u001b[0;34m\u001b[0m\u001b[0m\n\u001b[1;32m   1223\u001b[0m                 \u001b[0mf\u001b[0m \u001b[0;34m=\u001b[0m \u001b[0mf\u001b[0m\u001b[0;34m[\u001b[0m\u001b[0;34m'model_weights'\u001b[0m\u001b[0;34m]\u001b[0m\u001b[0;34m\u001b[0m\u001b[0;34m\u001b[0m\u001b[0m\n",
            "\u001b[0;32m/usr/local/lib/python3.6/dist-packages/h5py/_hl/files.py\u001b[0m in \u001b[0;36m__init__\u001b[0;34m(self, name, mode, driver, libver, userblock_size, swmr, rdcc_nslots, rdcc_nbytes, rdcc_w0, track_order, **kwds)\u001b[0m\n\u001b[1;32m    406\u001b[0m                 fid = make_fid(name, mode, userblock_size,\n\u001b[1;32m    407\u001b[0m                                \u001b[0mfapl\u001b[0m\u001b[0;34m,\u001b[0m \u001b[0mfcpl\u001b[0m\u001b[0;34m=\u001b[0m\u001b[0mmake_fcpl\u001b[0m\u001b[0;34m(\u001b[0m\u001b[0mtrack_order\u001b[0m\u001b[0;34m=\u001b[0m\u001b[0mtrack_order\u001b[0m\u001b[0;34m)\u001b[0m\u001b[0;34m,\u001b[0m\u001b[0;34m\u001b[0m\u001b[0;34m\u001b[0m\u001b[0m\n\u001b[0;32m--> 408\u001b[0;31m                                swmr=swmr)\n\u001b[0m\u001b[1;32m    409\u001b[0m \u001b[0;34m\u001b[0m\u001b[0m\n\u001b[1;32m    410\u001b[0m             \u001b[0;32mif\u001b[0m \u001b[0misinstance\u001b[0m\u001b[0;34m(\u001b[0m\u001b[0mlibver\u001b[0m\u001b[0;34m,\u001b[0m \u001b[0mtuple\u001b[0m\u001b[0;34m)\u001b[0m\u001b[0;34m:\u001b[0m\u001b[0;34m\u001b[0m\u001b[0;34m\u001b[0m\u001b[0m\n",
            "\u001b[0;32m/usr/local/lib/python3.6/dist-packages/h5py/_hl/files.py\u001b[0m in \u001b[0;36mmake_fid\u001b[0;34m(name, mode, userblock_size, fapl, fcpl, swmr)\u001b[0m\n\u001b[1;32m    171\u001b[0m         \u001b[0;32mif\u001b[0m \u001b[0mswmr\u001b[0m \u001b[0;32mand\u001b[0m \u001b[0mswmr_support\u001b[0m\u001b[0;34m:\u001b[0m\u001b[0;34m\u001b[0m\u001b[0;34m\u001b[0m\u001b[0m\n\u001b[1;32m    172\u001b[0m             \u001b[0mflags\u001b[0m \u001b[0;34m|=\u001b[0m \u001b[0mh5f\u001b[0m\u001b[0;34m.\u001b[0m\u001b[0mACC_SWMR_READ\u001b[0m\u001b[0;34m\u001b[0m\u001b[0;34m\u001b[0m\u001b[0m\n\u001b[0;32m--> 173\u001b[0;31m         \u001b[0mfid\u001b[0m \u001b[0;34m=\u001b[0m \u001b[0mh5f\u001b[0m\u001b[0;34m.\u001b[0m\u001b[0mopen\u001b[0m\u001b[0;34m(\u001b[0m\u001b[0mname\u001b[0m\u001b[0;34m,\u001b[0m \u001b[0mflags\u001b[0m\u001b[0;34m,\u001b[0m \u001b[0mfapl\u001b[0m\u001b[0;34m=\u001b[0m\u001b[0mfapl\u001b[0m\u001b[0;34m)\u001b[0m\u001b[0;34m\u001b[0m\u001b[0;34m\u001b[0m\u001b[0m\n\u001b[0m\u001b[1;32m    174\u001b[0m     \u001b[0;32melif\u001b[0m \u001b[0mmode\u001b[0m \u001b[0;34m==\u001b[0m \u001b[0;34m'r+'\u001b[0m\u001b[0;34m:\u001b[0m\u001b[0;34m\u001b[0m\u001b[0;34m\u001b[0m\u001b[0m\n\u001b[1;32m    175\u001b[0m         \u001b[0mfid\u001b[0m \u001b[0;34m=\u001b[0m \u001b[0mh5f\u001b[0m\u001b[0;34m.\u001b[0m\u001b[0mopen\u001b[0m\u001b[0;34m(\u001b[0m\u001b[0mname\u001b[0m\u001b[0;34m,\u001b[0m \u001b[0mh5f\u001b[0m\u001b[0;34m.\u001b[0m\u001b[0mACC_RDWR\u001b[0m\u001b[0;34m,\u001b[0m \u001b[0mfapl\u001b[0m\u001b[0;34m=\u001b[0m\u001b[0mfapl\u001b[0m\u001b[0;34m)\u001b[0m\u001b[0;34m\u001b[0m\u001b[0;34m\u001b[0m\u001b[0m\n",
            "\u001b[0;32mh5py/_objects.pyx\u001b[0m in \u001b[0;36mh5py._objects.with_phil.wrapper\u001b[0;34m()\u001b[0m\n",
            "\u001b[0;32mh5py/_objects.pyx\u001b[0m in \u001b[0;36mh5py._objects.with_phil.wrapper\u001b[0;34m()\u001b[0m\n",
            "\u001b[0;32mh5py/h5f.pyx\u001b[0m in \u001b[0;36mh5py.h5f.open\u001b[0;34m()\u001b[0m\n",
            "\u001b[0;31mOSError\u001b[0m: Unable to open file (file signature not found)"
          ]
        }
      ]
    },
    {
      "cell_type": "markdown",
      "metadata": {
        "id": "S5IIBPpXO0Sy",
        "colab_type": "text"
      },
      "source": [
        "### Model training\n",
        "We train our model for 100 epochs through keras \".fit_generator\". The number of steps per epoch is equal to the number of sentences that we have in the train set (800000) divided by the batch size; the additional /2 is due to the fact that our csv has two sentnces per line so in the end we have to read with our generator only 400000 lines per epoch.\n",
        "For validation data we pass the same array twice since input and labels of this model are the same. \n",
        "If we didn't use the \"tf.contrib.seq2seq.sequence_loss\" (or another similar function) we would have had to pass as labels the sequence of word one-hot encodings with dimension (batch_size, seq_len, vocab_size) consuming a lot of memory."
      ]
    },
    {
      "cell_type": "code",
      "metadata": {
        "id": "E0hiuP-hO0Sy",
        "colab_type": "code",
        "colab": {}
      },
      "source": [
        "def create_model_checkpoint(dir, model_name):\n",
        "    filepath = dir + '/' + model_name + \".h5\" #-{epoch:02d}-{decoded_mean:.2f}\n",
        "    directory = os.path.dirname(filepath)\n",
        "    try:\n",
        "        os.stat(directory)\n",
        "    except:\n",
        "        os.mkdir(directory)\n",
        "    checkpointer = ModelCheckpoint(filepath=filepath, verbose=1, save_best_only=False)\n",
        "    return checkpointer\n",
        "\n",
        "checkpointer = create_model_checkpoint('models', 'vae_seq2seq')\n",
        "\n",
        "max_sent = 1000\n",
        "nb_epoch = 100\n",
        "n_steps = round(n_train/batch_size/2) #we use the first 800000\n",
        "print(n_steps,'steps per epoch')\n",
        "vocabulary = []\n",
        "for counter in range(nb_epoch):\n",
        "    # everytime we're shuffling\n",
        "    np.random.shuffle(data_1)\n",
        "    np.random.shuffle(data_1_val)\n",
        "    print('-------epoch: ',counter,'--------')\n",
        "    vae.fit_generator(sent_generator(data_1, batch_size),\n",
        "                          steps_per_epoch=n_steps, epochs=1, callbacks=[checkpointer],\n",
        "                          validation_data=(data_1_val, data_1_val))\n",
        "    \n",
        "    \n",
        "    # predict new words\n",
        "    # build a model to project sentences on the latent space\n",
        "    encoder = Model(x, z_mean)\n",
        "\n",
        "    # build a generator that can sample sentences from the learned distribution\n",
        "    decoder_input = Input(shape=(latent_dim,))\n",
        "    _h_decoded = decoder_h(repeated_context(decoder_input))\n",
        "    _x_decoded_mean = decoder_mean(_h_decoded)\n",
        "    _x_decoded_mean = Activation('softmax')(_x_decoded_mean)\n",
        "    generator = Model(decoder_input, _x_decoded_mean)\n",
        "\n",
        "    index2word = {v: k for k, v in word_index.items()}\n",
        "    sent_encoded = encoder.predict(data_1_val[:max_sent,:], batch_size = 16)\n",
        "    x_test_reconstructed = generator.predict(sent_encoded)\n",
        "    original_words = []\n",
        "    predicted_words = []\n",
        "                                            \n",
        "    for sent_idx in range(max_sent):\n",
        "      reconstructed_indexes = np.apply_along_axis(np.argmax, 1, x_test_reconstructed[sent_idx])\n",
        "      #np.apply_along_axis(np.max, 1, x_test_reconstructed[sent_idx])\n",
        "      #np.max(np.apply_along_axis(np.max, 1, x_test_reconstructed[sent_idx]))\n",
        "      word_list = list(np.vectorize(index2word.get)(reconstructed_indexes))\n",
        "      word_list = ['' if x==None else x for x in word_list]\n",
        "      original_sent = list(np.vectorize(index2word.get)(data_1_val[sent_idx]))\n",
        "      original_sent = ['' if x==None else x for x in original_sent]\n",
        "      original_words += original_sent\n",
        "      predicted_words += word_list\n",
        "    ow = len(set(original_words))\n",
        "    pw = len(set(predicted_words))\n",
        "    tw = len(original_words)\n",
        "    vocabulary = set(list(vocabulary) + list(set(predicted_words)))\n",
        "    vw = len(vocabulary)\n",
        "    print('Predicting',pw,'/',ow,'unique words in validation set (',vw,'word vocabulary )')\n",
        "    print('Target sentence:',' '.join(original_sent))\n",
        "    print('Predicted sentence:',' '.join(word_list))\n",
        "\n",
        "vae.save('models/vae_finished.h5')"
      ],
      "execution_count": null,
      "outputs": []
    },
    {
      "cell_type": "markdown",
      "metadata": {
        "id": "-pDjrjHhO0S4",
        "colab_type": "text"
      },
      "source": [
        "### Project and sample sentences from the latent space\n",
        "Now we build an encoder model model that takes a sentence and projects it on the latent space and a decoder model that goes from the latent space back to the text representation"
      ]
    },
    {
      "cell_type": "code",
      "metadata": {
        "id": "NflOfCFaO0S4",
        "colab_type": "code",
        "colab": {}
      },
      "source": [
        "# build a model to project sentences on the latent space\n",
        "encoder = Model(x, z_mean)\n",
        "\n",
        "# build a generator that can sample sentences from the learned distribution\n",
        "decoder_input = Input(shape=(latent_dim,))\n",
        "_h_decoded = decoder_h(repeated_context(decoder_input))\n",
        "_x_decoded_mean = decoder_mean(_h_decoded)\n",
        "_x_decoded_mean = Activation('softmax')(_x_decoded_mean)\n",
        "generator = Model(decoder_input, _x_decoded_mean)"
      ],
      "execution_count": null,
      "outputs": []
    },
    {
      "cell_type": "markdown",
      "metadata": {
        "id": "PuxJtfMiO0S7",
        "colab_type": "text"
      },
      "source": [
        "### Test on validation sentences"
      ]
    },
    {
      "cell_type": "code",
      "metadata": {
        "id": "x7SsQ4TpO0S7",
        "colab_type": "code",
        "colab": {}
      },
      "source": [
        "max_sent = 1500\n",
        "index2word = {v: k for k, v in word_index.items()}\n",
        "sent_encoded = encoder.predict(data_1_val[:max_sent,:], batch_size = 16)\n",
        "x_test_reconstructed = generator.predict(sent_encoded)\n",
        "original_words = []\n",
        "predicted_words = []\n",
        "                                         \n",
        "for sent_idx in range(10):\n",
        "  reconstructed_indexes = np.apply_along_axis(np.argmax, 1, x_test_reconstructed[sent_idx])\n",
        "  #np.apply_along_axis(np.max, 1, x_test_reconstructed[sent_idx])\n",
        "  #np.max(np.apply_along_axis(np.max, 1, x_test_reconstructed[sent_idx]))\n",
        "  word_list = list(np.vectorize(index2word.get)(reconstructed_indexes))\n",
        "  word_list = ['' if x==None else x for x in word_list]\n",
        "  print('Word list:',' '.join(word_list))\n",
        "  original_sent = list(np.vectorize(index2word.get)(data_1_val[sent_idx]))\n",
        "  original_sent = ['' if x==None else x for x in original_sent]\n",
        "  print('Original sentence:',' '.join(original_sent))\n",
        "\n",
        "  original_words += original_sent\n",
        "  predicted_words += word_list\n",
        "ow = len(set(original_words))\n",
        "pw = len(set(predicted_words))\n",
        "print('Predicting',pw,'/',ow,'unique words')"
      ],
      "execution_count": null,
      "outputs": []
    },
    {
      "cell_type": "code",
      "metadata": {
        "id": "oF7VZpuY8k0s",
        "colab_type": "code",
        "colab": {}
      },
      "source": [
        "print(reconstructed_indexes)"
      ],
      "execution_count": null,
      "outputs": []
    },
    {
      "cell_type": "markdown",
      "metadata": {
        "id": "2JH_0mFTO0S-",
        "colab_type": "text"
      },
      "source": [
        "### Sentence processing and interpolation"
      ]
    },
    {
      "cell_type": "code",
      "metadata": {
        "id": "lm55WnnXO0S_",
        "colab_type": "code",
        "colab": {}
      },
      "source": [
        "# function to parse a sentence\n",
        "def sent_parse(sentence, mat_shape):\n",
        "    sequence = tokenizer.texts_to_sequences(sentence)\n",
        "    padded_sent = pad_sequences(sequence, maxlen=MAX_SEQUENCE_LENGTH)\n",
        "    return padded_sent#[padded_sent, sent_one_hot]\n",
        "\n",
        "# input: encoded sentence vector\n",
        "# output: encoded sentence vector in dataset with highest cosine similarity\n",
        "def find_similar_encoding(sent_vect):\n",
        "    all_cosine = []\n",
        "    for sent in sent_encoded:\n",
        "        result = 1 - spatial.distance.cosine(sent_vect, sent)\n",
        "        all_cosine.append(result)\n",
        "    data_array = np.array(all_cosine)\n",
        "    maximum = data_array.argsort()[-3:][::-1][1]\n",
        "    new_vec = sent_encoded[maximum]\n",
        "    return new_vec\n",
        "\n",
        "# input: two points, integer n\n",
        "# output: n equidistant points on the line between the input points (inclusive)\n",
        "def shortest_homology(point_one, point_two, num):\n",
        "    dist_vec = point_two - point_one\n",
        "    sample = np.linspace(0, 1, num, endpoint = True)\n",
        "    hom_sample = []\n",
        "    for s in sample:\n",
        "        hom_sample.append(point_one + s * dist_vec)\n",
        "    return hom_sample\n",
        "\n",
        "# input: original dimension sentence vector\n",
        "# output: sentence text\n",
        "def print_latent_sentence(sent_vect):\n",
        "    sent_vect = np.reshape(sent_vect,[1,latent_dim])\n",
        "    sent_reconstructed = generator.predict(sent_vect)\n",
        "    sent_reconstructed = np.reshape(sent_reconstructed,[max_len,NB_WORDS])\n",
        "    reconstructed_indexes = np.apply_along_axis(np.argmax, 1, sent_reconstructed)\n",
        "    np.apply_along_axis(np.max, 1, x_test_reconstructed[sent_idx])\n",
        "    np.max(np.apply_along_axis(np.max, 1, x_test_reconstructed[sent_idx]))\n",
        "    word_list = list(np.vectorize(index2word.get)(reconstructed_indexes))\n",
        "    w_list = [w for w in word_list if w]\n",
        "    print(' '.join(w_list))\n",
        "    #print(word_list)\n",
        "        \n",
        "def new_sents_interp(sent1, sent2, n):\n",
        "    tok_sent1 = sent_parse(sent1, [15])\n",
        "    tok_sent2 = sent_parse(sent2, [15])\n",
        "    enc_sent1 = encoder.predict(tok_sent1, batch_size = 16)\n",
        "    enc_sent2 = encoder.predict(tok_sent2, batch_size = 16)\n",
        "    test_hom = shortest_homology(enc_sent1, enc_sent2, n)\n",
        "    for point in test_hom:\n",
        "        print_latent_sentence(point)"
      ],
      "execution_count": null,
      "outputs": []
    },
    {
      "cell_type": "markdown",
      "metadata": {
        "id": "qVgEK8K9O0TC",
        "colab_type": "text"
      },
      "source": [
        "### Example\n",
        "Now we can try to parse two sentences and interpolate between them generating new sentences"
      ]
    },
    {
      "cell_type": "code",
      "metadata": {
        "id": "83NjNlzYO0TC",
        "colab_type": "code",
        "colab": {}
      },
      "source": [
        "sentence1=['where can i find a book on machine learning']\n",
        "print('From:',sentence1)\n",
        "mysent = sent_parse(sentence1, [15])\n",
        "mysent_encoded = encoder.predict(mysent, batch_size = 16)\n",
        "print_latent_sentence(mysent_encoded)\n",
        "print_latent_sentence(find_similar_encoding(mysent_encoded))\n",
        "\n",
        "sentence2=['how can i become a successful entrepreneur']\n",
        "mysent2 = sent_parse(sentence2, [15])\n",
        "mysent_encoded2 = encoder.predict(mysent2, batch_size = 16)\n",
        "print_latent_sentence(mysent_encoded2)\n",
        "print_latent_sentence(find_similar_encoding(mysent_encoded2))\n",
        "print('-----------------')\n",
        "\n",
        "new_sents_interp(sentence1, sentence2, 6)\n",
        "print('To:',sentence2)"
      ],
      "execution_count": null,
      "outputs": []
    },
    {
      "cell_type": "markdown",
      "metadata": {
        "id": "E04zL-InO0TG",
        "colab_type": "text"
      },
      "source": [
        "### Results\n",
        "After training with these parameters for 100 epochs I got these results from interpolating between these two sentences:\n",
        "\n",
        "sentence1=['where can i find a book on machine learning']\n",
        "sentence2=['how can i become a successful entrepreneur']\n",
        "\n",
        "Generated sentences:\n",
        "- ------------------------------------------- -\n",
        "-  where can i find a book on machine learning\n",
        "-  where can i find a a machine book\n",
        "-  how can i write a a machine book\n",
        "-  how can i become a successful architect\n",
        "-  how can i become a successful architect\n",
        "-  how can i become a successful entrepreneur\n",
        "- ------------------------------------------- -\n",
        "\n",
        "As we can see the results are not yet completely satisfying because not all the sentences are grammatically correct and in the interpolation the same sentence has been generated multiple times but anyway the model, even in this preliminary version seems to start working.\n",
        "There are certainly many improvements that could be done like:\n",
        "-  removing all the sentences longer than 15 instead of just truncating them\n",
        "-  introduce the equivalent of word dropout used in the original paper for this decoder architecture \n",
        "-  parameter tuning (this model trains in few hours on a GTX950M with 2GB memory so it's definitely possible to try larger nets)\n",
        "-  Using word embeddings with higher dimensionality\n",
        "-  train on a more general dataset (Quora sentences are all questions)\n",
        "\n",
        "Stay tuned for future refinings of the model!"
      ]
    }
  ]
}